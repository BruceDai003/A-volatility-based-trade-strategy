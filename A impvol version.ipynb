{
 "cells": [
  {
   "cell_type": "code",
   "execution_count": 91,
   "metadata": {},
   "outputs": [
    {
     "name": "stdout",
     "output_type": "stream",
     "text": [
      "2700\n"
     ]
    }
   ],
   "source": [
    "import math\n",
    "import xlrd\n",
    "import xlwt\n",
    "import numpy as np\n",
    "import time\n",
    "import matplotlib.pyplot as plt\n",
    "from math import *\n",
    "\n",
    "nameofop = input()\n",
    "mfuture = xlrd.open_workbook(u'Zoom_2.xls').sheets()[0]\n",
    "moption = xlrd.open_workbook(u'Moption price_'+nameofop+'.xlsx').sheets()[0]\n",
    "dayvdata = xlrd.open_workbook(u'dayvolmonths.xlsx').sheets()[0]\n",
    "n1 = 4\n",
    "n2 = 6\n",
    "taryield = 0.01\n"
   ]
  },
  {
   "cell_type": "code",
   "execution_count": 92,
   "metadata": {},
   "outputs": [],
   "source": [
    "def phi(x):\n",
    "    #'Cumulative distribution function for the standard normal distribution'\n",
    "    return (1.0 + erf(x / sqrt(2.0))) / 2.0\n",
    "\n",
    "\n",
    "def bsform(s,x,r,sigma,tau):\n",
    "    d1 = (np.log(s/x)+(r+sigma*sigma/2)*tau)/(sigma*np.sqrt(tau))\n",
    "    d2 = d1 - sigma*math.sqrt(tau)\n",
    "    return s*phi(d1)-x*math.exp(-r*tau)*phi(d2)\n",
    "\n",
    "def calc_impliedvol(st, en, op_price, fut_price, tau, sig30, date):\n",
    "    if en - st < 0.0000000001:\n",
    "        return st\n",
    "    else:\n",
    "        mid = (st+en)/2\n",
    "        pst = bsform(fut_price, int(nameofop), 0.025, st, tau) - op_price\n",
    "        pen = bsform(fut_price, int(nameofop), 0.025, en, tau) - op_price\n",
    "        pmid = bsform(fut_price, int(nameofop), 0.025, mid, tau) - op_price\n",
    "        if pst*pmid <= 0:\n",
    "            return calc_impliedvol(st, mid, op_price, fut_price, tau, sig30, date)\n",
    "        if pen*pmid <= 0:\n",
    "            return calc_impliedvol(mid, en, op_price, fut_price, tau, sig30, date)\n",
    "        if pst*pmid > 0 and pen*pmid > 0:\n",
    "            print(\"a replace occured\"+str(st)+': '+str(pst+op_price)+' —— '+str(en)+': '+str(pen+op_price))\n",
    "            print(\"op_price: \"+ str(op_price))\n",
    "            return sig30\n",
    "\n",
    "\n",
    "def my_std(inplist, days):\n",
    "    return [0 for i in range(days)]+[np.std(inplist[i:i+days], ddof = 1) for i in range(len(inplist)-days+1)]\n",
    "\n",
    "def my_norm(inp):\n",
    "    return np.exp(-inp*inp/2)/math.sqrt(2*math.pi)\n",
    "\n",
    "\n",
    "def calc_vega(price_fut,vol,tau):\n",
    "    d1 = (np.log(price_fut/int(nameofop))+(0.025+vol*vol/2)*tau)/(vol*np.sqrt(tau))\n",
    "    vega = np.sqrt(tau)*price_fut*my_norm(d1)\n",
    "    return vega\n"
   ]
  },
  {
   "cell_type": "code",
   "execution_count": 93,
   "metadata": {},
   "outputs": [
    {
     "name": "stdout",
     "output_type": "stream",
     "text": [
      "[0.33972603 0.3369863  0.33424658 0.3260274  0.32328767 0.32054795\n",
      " 0.31780822 0.31506849 0.30684932 0.30410959 0.30136986 0.29863014\n",
      " 0.29589041 0.28767123 0.28493151 0.28219178 0.27945205 0.27671233\n",
      " 0.26575342 0.2630137  0.26027397 0.25753425 0.24931507 0.24657534\n",
      " 0.24383562 0.24109589 0.23835616 0.23013699 0.22739726 0.22465753\n",
      " 0.22191781 0.21917808 0.2109589  0.20821918 0.20547945 0.20273973\n",
      " 0.2        0.18630137 0.18356164 0.18082192 0.17260274 0.16986301\n",
      " 0.16712329 0.16438356 0.16164384 0.15342466 0.15068493 0.14794521\n",
      " 0.14520548 0.14246575 0.13424658 0.13150685 0.12876712 0.1260274\n",
      " 0.12328767 0.11506849 0.11232877 0.10958904 0.10684932 0.10410959\n",
      " 0.09589041 0.09315068 0.09041096 0.08767123 0.08493151 0.07671233\n",
      " 0.0739726  0.07123288 0.06849315 0.06575342 0.05753425 0.05479452\n",
      " 0.05205479 0.04931507 0.04657534 0.03835616 0.03561644 0.03287671\n",
      " 0.03013699 0.02739726 0.01917808]\n",
      "a replace occured1e-06: 234.98853657528343 —— 0.5: 297.8335092191928\n",
      "op_price: 231.5\n",
      "a replace occured1e-06: 145.32671598657362 —— 0.5: 208.70495497271054\n",
      "op_price: 141.5\n",
      "a replace occured1e-06: 172.1420060113719 —— 0.5: 224.95201269171935\n",
      "op_price: 167.5\n",
      "a replace occured1e-06: 166.40303958388404 —— 0.5: 208.1981771220303\n",
      "op_price: 164.0\n",
      "a replace occured1e-06: 142.84868188598557 —— 0.5: 180.03328437005553\n",
      "op_price: 140.0\n",
      "a replace occured1e-06: 141.29421026726732 —— 0.5: 166.99896668305382\n",
      "op_price: 140.5\n",
      "[0.13627778 0.11150311 0.11108054 0.10879408 0.11222322 0.11767113\n",
      " 0.10652735 0.10856268 0.11010803 0.11309978 0.08755749 0.10667642\n",
      " 0.10616711 0.0986792  0.07121555 0.10897197 0.11293224 0.10607783\n",
      " 0.090379   0.09485284 0.08698768 0.10843403 0.12637712 0.11675938\n",
      " 0.10286612 0.10096304 0.11646622 0.11665465 0.1075653  0.11029457\n",
      " 0.10821587 0.11768399 0.11277972 0.11793169 0.12288965 0.12531536\n",
      " 0.13747625 0.17129752 0.16325474 0.16411458 0.15946366 0.15974946\n",
      " 0.15849323 0.15981621 0.167162   0.17091853 0.17284124 0.16847402\n",
      " 0.16538811 0.16103303 0.16492501 0.16142826 0.16504238 0.16590381\n",
      " 0.16749263 0.17425278 0.17491933 0.17340098 0.178694   0.17910134\n",
      " 0.1673356  0.15578129 0.15961454 0.13783507 0.14921907 0.15229728\n",
      " 0.01283685 0.19417613 0.19127296 0.17241392 0.17943608 0.17120945\n",
      " 0.18627471 0.01243608 0.01250812 0.17457782 0.01365705 0.17470136\n",
      " 0.13689939 0.01415713 0.01411179]\n"
     ]
    }
   ],
   "source": [
    "price_op = np.array(moption.col_values(1)[1:])\n",
    "price_fut = np.array(mfuture.col_values(1)[1:])\n",
    "t_date = np.array(mfuture.col_values(0)[1:])\n",
    "\n",
    "price_st = np.array(dayvdata.col_values(1)[1:])\n",
    "price_low = np.array(dayvdata.col_values(2)[1:])\n",
    "tau = np.array(dayvdata.col_values(4)[1:])/365\n",
    "day_vol = np.log(price_st/price_low)*np.log(price_st/price_low)/(4*np.log(2))\n",
    "\n",
    "print(tau)\n",
    "vol30 = np.array(mfuture.col_values(4)[1:])\n",
    "impvol = np.array([calc_impliedvol(0.000001,0.5, price_op[i], price_fut[i], tau[i], vol30[i], t_date[i]) for i in range(len(price_op))] )\n",
    "print(impvol)\n",
    "vega = calc_vega(price_fut,impvol,tau)\n",
    "d1 = (np.log(price_st/int(nameofop))+(0.025+impvol*impvol/2)*tau)/(impvol*np.sqrt(tau))\n",
    "delta = [phi(i) for i in d1]\n",
    "sigma = vega*day_vol\n",
    "\n"
   ]
  },
  {
   "cell_type": "code",
   "execution_count": 63,
   "metadata": {},
   "outputs": [
    {
     "name": "stdout",
     "output_type": "stream",
     "text": [
      "[0, 0.9758072047688984, -0.54583089277412, -4.5934743524449, -4.210467953508669, 9.55415711416208, 23.230908305005414, 21.336406059068395, 21.383976216349765, 26.383976216349765, 15.585803906124966, 10.470255966853983, 10.882056867756546, 0.31975399450084296, 7.681468155579296, 10.181468155579296, 8.252028797373441, -11.045309976052522, -10.221492019087691, -6.182216192069518, -4.488533745228324, -5.830811989496397, -6.566101161147799, -10.780490484948587, -16.358136259639195, -22.20220555158221, -14.389719356310252, -13.312721513602128, -14.633064188849403, -15.934946554010821, -20.523026298403465, -25.714115159632456, -25.614416280827527, -23.54647582651785, -26.639207191106493, -25.46532325645319, -27.171543840036065, -26.98337234383075, -32.12936004687526, -37.20960695117492, -40.6140743183546, -36.4575285765477, -34.649149102865294, -33.03197106924654, -27.807547168789142, -29.98504324952728, -27.30786017734431, -21.95976918063434, -23.498647447452186, -21.336231267809353, -22.70407480367612, -24.266524052003206, -26.23940816647064, -27.25784400905127, -29.08921424937239, -44.52947803555162, -49.78790261857284, -49.27813844958973, -42.2137706101139, -39.78645797415038, -47.303094290434274, -41.303094290434274, -31.856482998772208, -28.552475922766916, -13.84410861159131, -20.039945687488398, -30.92965670182275, -45.60075095989487, -37.60075095989487, -50.60075095989487, -50.526698021099946, -42.026698021099946, -38.0381015586936, -23.454708202357324, -34.454708202357324, -38.954708202357324]\n"
     ]
    }
   ],
   "source": [
    "pos = 0\n",
    "open_pos = 0\n",
    "cyield = 0.00\n",
    "tyield = [0]\n",
    "\n",
    "sigv1 =[99999 for i in range(0,n2)] + [np.sum(sigma[i-n1:i])/np.sum(vega[i-n1:i]) for i in range(n2,len(sigma))]\n",
    "sigv2=[99999 for i in range(0,n2)] + [np.sum(sigma[i-n2:i])/np.sum(vega[i-n1:i]) for i in range(n2,len(sigma))]\n",
    "\n",
    "for i in range(n2, len(sigma)):\n",
    "    if (cyield > taryield) or (sigv1[i]>sigv1[i-1]):\n",
    "        cyield = 0\n",
    "        pos = 0\n",
    "    if pos == 0 and sigv1[i]<sigv2[i]:\n",
    "        open_pos = 1\n",
    "    if pos == 0 and open_pos == 1:\n",
    "        open_pos = 0\n",
    "        pos = 1\n",
    "        cyield += math.log(-price_op[i]+delta[i]*price_fut[i])- math.log(-price_op[i-1]+delta[i]*price_fut[i-1])\n",
    "        tyield.append(tyield[len(tyield)-1]+(-price_op[i]+delta[i]*price_fut[i])-(-price_op[i-1]+delta[i]*price_st[i]))\n",
    "        continue\n",
    "    if pos == 1:\n",
    "        cyield += math.log(-price_op[i]+delta[i]*price_fut[i])- math.log(-price_op[i-1]+delta[i]*price_fut[i-1])\n",
    "        tyield.append(tyield[len(tyield)-1]+(-price_op[i]+delta[i]*price_fut[i])-(-price_op[i-1]+delta[i]*price_st[i]))\n",
    "    else:\n",
    "        tyield.append(tyield[len(tyield)-1])\n",
    "\n",
    "print(tyield)\n",
    "    \n",
    "    \n"
   ]
  },
  {
   "cell_type": "code",
   "execution_count": 64,
   "metadata": {},
   "outputs": [],
   "source": [
    "output = xlwt.Workbook(encoding = 'ascii')\n",
    "sheet1 = output.add_sheet('Sheet1',cell_overwrite_ok= True)\n",
    "for i in range(0, len(tyield)):\n",
    "    sheet1.write(i+6,1,tyield[i])\n",
    "for i in range(0, len(vega)):\n",
    "    sheet1.write(i+1,2,vega[i])\n",
    "    sheet1.write(i+1,3,delta[i])\n",
    "    sheet1.write(i+1,4,price_fut[i])\n",
    "    sheet1.write(i+1,5,price_op[i])\n",
    "    sheet1.write(i+1,6,day_vol[i])\n",
    "    sheet1.write(i+1,7,sigv1[i])\n",
    "    sheet1.write(i+1,8,sigv2[i])\n",
    "    sheet1.write(i+1,9,impvol[i])\n",
    "    sheet1.write(i+1,10,vol30[i])\n",
    "output.save('fm_c'+nameofop+'immm.xls')"
   ]
  },
  {
   "cell_type": "code",
   "execution_count": null,
   "metadata": {},
   "outputs": [],
   "source": []
  }
 ],
 "metadata": {
  "kernelspec": {
   "display_name": "Python 3",
   "language": "python",
   "name": "python3"
  },
  "language_info": {
   "codemirror_mode": {
    "name": "ipython",
    "version": 3
   },
   "file_extension": ".py",
   "mimetype": "text/x-python",
   "name": "python",
   "nbconvert_exporter": "python",
   "pygments_lexer": "ipython3",
   "version": "3.5.5"
  }
 },
 "nbformat": 4,
 "nbformat_minor": 2
}
